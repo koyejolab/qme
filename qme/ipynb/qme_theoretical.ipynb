{
    "cells": [
        {
            "cell_type": "markdown",
            "metadata": {},
            "source": [
                "This code shows how a theoretically optimal QME would perform. Instead of using LPME to estimate the normalized gradient, we compute the true (normalized) gradient and use it directly.\n",
                "\n",
                "The resulting squared error should *always* be $ \\approx $ 0, even on inputs that are not well-formed."
            ]
        },
        {
            "cell_type": "code",
            "execution_count": 1,
            "metadata": {},
            "outputs": [],
            "source": [
                "import numpy as np\n",
                "\n",
                "import sys\n",
                "sys.path.append('../')\n",
                "from common import Sphere, create_a_B, normalize\n",
                "from qme import QMESC"
            ]
        },
        {
            "cell_type": "code",
            "execution_count": 2,
            "metadata": {},
            "outputs": [],
            "source": [
                "np.random.seed(7)\n",
                "\n",
                "nc = 3 # number of classes\n",
                "rB = 0.5 # radius of big circle\n",
                "rS = 0.2 # radius of small circle"
            ]
        },
        {
            "cell_type": "code",
            "execution_count": 3,
            "metadata": {},
            "outputs": [],
            "source": [
                "q = nc ** 2 - nc # number of off-diag elements\n",
                "sphere = Sphere(np.random.randn(q), rB, q)"
            ]
        },
        {
            "cell_type": "code",
            "execution_count": 4,
            "metadata": {},
            "outputs": [],
            "source": [
                "a, B = create_a_B(sphere, q, well_formed=False)\n",
                "d = np.array(a + B @ sphere.origin)[0] # see paper for an explanation"
            ]
        },
        {
            "cell_type": "code",
            "execution_count": 5,
            "metadata": {},
            "outputs": [
                {
                    "data": {
                        "text/plain": [
                            "array([0.16151099, 0.21945779, 0.2596864 , 0.12308128, 0.0213039 ,\n",
                            "       0.09309924])"
                        ]
                    },
                    "execution_count": 5,
                    "metadata": {},
                    "output_type": "execute_result"
                }
            ],
            "source": [
                "a"
            ]
        },
        {
            "cell_type": "code",
            "execution_count": 6,
            "metadata": {},
            "outputs": [
                {
                    "data": {
                        "text/plain": [
                            "matrix([[ 0.0918981 ,  0.01367911, -0.01464161, -0.03374885, -0.01594855,\n",
                            "          0.00542377],\n",
                            "        [ 0.01367911,  0.2460313 , -0.16528713, -0.36697316, -0.06626116,\n",
                            "          0.0702057 ],\n",
                            "        [-0.01464161, -0.16528713,  0.19526496,  0.30098713,  0.11494059,\n",
                            "         -0.04367302],\n",
                            "        [-0.03374885, -0.36697316,  0.30098713,  0.80389665,  0.1710397 ,\n",
                            "         -0.09867968],\n",
                            "        [-0.01594855, -0.06626116,  0.11494059,  0.1710397 ,  0.10597845,\n",
                            "         -0.03141615],\n",
                            "        [ 0.00542377,  0.0702057 , -0.04367302, -0.09867968, -0.03141615,\n",
                            "          0.0507994 ]])"
                        ]
                    },
                    "execution_count": 6,
                    "metadata": {},
                    "output_type": "execute_result"
                }
            ],
            "source": [
                "B"
            ]
        },
        {
            "cell_type": "code",
            "execution_count": 7,
            "metadata": {},
            "outputs": [],
            "source": [
                "# f_z and f_neg0 are special, see paper for explanation\n",
                "f_z = normalize(d)\n",
                "\n",
                "z_neg0 = np.zeros(q)\n",
                "z_neg0[0] = -(rB - rS)\n",
                "f_neg0 = normalize(np.array(d + B @ z_neg0)[0])\n",
                "\n",
                "# f_0 ... f_q-1, compute true derivative and store normalized \"slope\" (LPME recovers this)\n",
                "fs = []\n",
                "for i in range(0, q):\n",
                "    z_i = np.zeros(q)\n",
                "    z_i[i] = (rB - rS)\n",
                "    f_i = normalize(np.array(d + B @ z_i)[0])\n",
                "    fs.append(f_i)"
            ]
        },
        {
            "cell_type": "code",
            "execution_count": 8,
            "metadata": {
                "scrolled": true
            },
            "outputs": [],
            "source": [
                "qm = QMESC(sphere, rS, f_z, f_neg0, fs, well_formed=False)\n",
                "ahat, Bhat = qm.compute_a_b()"
            ]
        },
        {
            "cell_type": "code",
            "execution_count": 9,
            "metadata": {},
            "outputs": [
                {
                    "data": {
                        "text/plain": [
                            "array([0.16151099, 0.21945779, 0.2596864 , 0.12308128, 0.0213039 ,\n",
                            "       0.09309924])"
                        ]
                    },
                    "execution_count": 9,
                    "metadata": {},
                    "output_type": "execute_result"
                }
            ],
            "source": [
                "a"
            ]
        },
        {
            "cell_type": "code",
            "execution_count": 10,
            "metadata": {},
            "outputs": [
                {
                    "data": {
                        "text/plain": [
                            "array([0.16151099, 0.21945779, 0.2596864 , 0.12308128, 0.0213039 ,\n",
                            "       0.09309924])"
                        ]
                    },
                    "execution_count": 10,
                    "metadata": {},
                    "output_type": "execute_result"
                }
            ],
            "source": [
                "ahat"
            ]
        },
        {
            "cell_type": "code",
            "execution_count": 11,
            "metadata": {},
            "outputs": [
                {
                    "data": {
                        "text/plain": [
                            "matrix([[ 0.0918981 ,  0.01367911, -0.01464161, -0.03374885, -0.01594855,\n",
                            "          0.00542377],\n",
                            "        [ 0.01367911,  0.2460313 , -0.16528713, -0.36697316, -0.06626116,\n",
                            "          0.0702057 ],\n",
                            "        [-0.01464161, -0.16528713,  0.19526496,  0.30098713,  0.11494059,\n",
                            "         -0.04367302],\n",
                            "        [-0.03374885, -0.36697316,  0.30098713,  0.80389665,  0.1710397 ,\n",
                            "         -0.09867968],\n",
                            "        [-0.01594855, -0.06626116,  0.11494059,  0.1710397 ,  0.10597845,\n",
                            "         -0.03141615],\n",
                            "        [ 0.00542377,  0.0702057 , -0.04367302, -0.09867968, -0.03141615,\n",
                            "          0.0507994 ]])"
                        ]
                    },
                    "execution_count": 11,
                    "metadata": {},
                    "output_type": "execute_result"
                }
            ],
            "source": [
                "B"
            ]
        },
        {
            "cell_type": "code",
            "execution_count": 12,
            "metadata": {},
            "outputs": [
                {
                    "data": {
                        "text/plain": [
                            "matrix([[ 0.0918981 ,  0.01367911, -0.01464161, -0.03374885, -0.01594855,\n",
                            "          0.00542377],\n",
                            "        [ 0.01367911,  0.2460313 , -0.16528713, -0.36697316, -0.06626116,\n",
                            "          0.0702057 ],\n",
                            "        [-0.01464161, -0.16528713,  0.19526496,  0.30098713,  0.11494059,\n",
                            "         -0.04367302],\n",
                            "        [-0.03374885, -0.36697316,  0.30098713,  0.80389665,  0.1710397 ,\n",
                            "         -0.09867968],\n",
                            "        [-0.01594855, -0.06626116,  0.11494059,  0.1710397 ,  0.10597845,\n",
                            "         -0.03141615],\n",
                            "        [ 0.00542377,  0.0702057 , -0.04367302, -0.09867968, -0.03141615,\n",
                            "          0.0507994 ]])"
                        ]
                    },
                    "execution_count": 12,
                    "metadata": {},
                    "output_type": "execute_result"
                }
            ],
            "source": [
                "Bhat"
            ]
        },
        {
            "cell_type": "code",
            "execution_count": 13,
            "metadata": {},
            "outputs": [
                {
                    "data": {
                        "text/plain": [
                            "1.1292503550707428e-15"
                        ]
                    },
                    "execution_count": 13,
                    "metadata": {},
                    "output_type": "execute_result"
                }
            ],
            "source": [
                "# ahat error\n",
                "np.linalg.norm(ahat - a)"
            ]
        },
        {
            "cell_type": "code",
            "execution_count": 14,
            "metadata": {},
            "outputs": [
                {
                    "data": {
                        "text/plain": [
                            "2.3326595404255333e-15"
                        ]
                    },
                    "execution_count": 14,
                    "metadata": {},
                    "output_type": "execute_result"
                }
            ],
            "source": [
                "# bhat error\n",
                "np.linalg.norm(Bhat - B, ord='fro')"
            ]
        },
        {
            "cell_type": "code",
            "execution_count": null,
            "metadata": {},
            "outputs": [],
            "source": []
        }
    ],
    "metadata": {
        "kernelspec": {
            "display_name": "Python 3",
            "language": "python",
            "name": "python3"
        },
        "language_info": {
            "codemirror_mode": {
                "name": "ipython",
                "version": 3
            },
            "file_extension": ".py",
            "mimetype": "text/x-python",
            "name": "python",
            "nbconvert_exporter": "python",
            "pygments_lexer": "ipython3",
            "version": "3.7.3"
        }
    },
    "nbformat": 4,
    "nbformat_minor": 2
}