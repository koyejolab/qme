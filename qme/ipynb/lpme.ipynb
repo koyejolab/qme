{
    "cells": [
        {
            "cell_type": "markdown",
            "metadata": {},
            "source": [
                "This code demonstrates the LPME algorithm. LPME assumes the hidden (cost) metric $s$ can be expressed as:\n",
                "$$ s = <a, r> + c $$.\n",
                "\n",
                "It uses only oracle comparisons to recover $a$. It works using a binary-search like algorithm on each coordinate."
            ]
        },
        {
            "cell_type": "code",
            "execution_count": 1,
            "metadata": {},
            "outputs": [],
            "source": [
                "%load_ext autoreload\n",
                "\n",
                "%autoreload 2"
            ]
        },
        {
            "cell_type": "code",
            "execution_count": 2,
            "metadata": {},
            "outputs": [],
            "source": [
                "import numpy as np\n",
                "from scipy import spatial\n",
                "\n",
                "import sys\n",
                "sys.path.append('../')\n",
                "from common import Sphere, Oracle, normalize\n",
                "from lpme import LPME, compute_vector"
            ]
        },
        {
            "cell_type": "code",
            "execution_count": 3,
            "metadata": {},
            "outputs": [],
            "source": [
                "np.random.seed(7)\n",
                "nc = 5 # number of classes\n",
                "r = np.random.uniform(0, 10) # sphere radius\n",
                "search_tol = 1e-2 # search tolerance\n",
                "\n",
                "q = nc**2 - nc\n"
            ]
        },
        {
            "cell_type": "code",
            "execution_count": 4,
            "metadata": {},
            "outputs": [],
            "source": [
                "# search space is a Sphere\n",
                "sphere = Sphere(np.random.randn(q), r, q)\n",
                "\n",
                "# linear performance metric\n",
                "a = np.random.randn(q)\n",
                "a = normalize(a)\n",
                "\n",
                "# B = 0 makes oracle linear\n",
                "B = np.matrix(np.zeros((q, q)))"
            ]
        },
        {
            "cell_type": "code",
            "execution_count": 5,
            "metadata": {},
            "outputs": [],
            "source": [
                "oracle = Oracle(a, B)"
            ]
        },
        {
            "cell_type": "code",
            "execution_count": 6,
            "metadata": {},
            "outputs": [],
            "source": [
                "lpm = LPME(sphere, oracle, search_tol)\n",
                "ahat = lpm.run_lpme()"
            ]
        },
        {
            "cell_type": "code",
            "execution_count": 7,
            "metadata": {},
            "outputs": [
                {
                    "data": {
                        "text/plain": [
                            "array([ 0.01250023, -0.19585473,  0.14049531,  0.20815772, -0.25391651,\n",
                            "       -0.02774202, -0.41198427, -0.02981075, -0.39809574, -0.06708321,\n",
                            "        0.08438654,  0.10614552,  0.12328695, -0.31575798, -0.06444732,\n",
                            "       -0.30606313,  0.23728292, -0.22163813, -0.12149291, -0.38505428])"
                        ]
                    },
                    "execution_count": 7,
                    "metadata": {},
                    "output_type": "execute_result"
                }
            ],
            "source": [
                "a"
            ]
        },
        {
            "cell_type": "code",
            "execution_count": 8,
            "metadata": {},
            "outputs": [
                {
                    "data": {
                        "text/plain": [
                            "array([ 0.01227154, -0.19507563,  0.14092336,  0.20683073, -0.25290735,\n",
                            "       -0.02803339, -0.4132031 , -0.02998539, -0.39909754, -0.06738353,\n",
                            "        0.08431556,  0.10503226,  0.12273585, -0.31615512, -0.06481887,\n",
                            "       -0.30597269,  0.23699232, -0.22191356, -0.12176588, -0.38436378])"
                        ]
                    },
                    "execution_count": 8,
                    "metadata": {},
                    "output_type": "execute_result"
                }
            ],
            "source": [
                "ahat"
            ]
        },
        {
            "cell_type": "code",
            "execution_count": 9,
            "metadata": {},
            "outputs": [
                {
                    "name": "stdout",
                    "output_type": "stream",
                    "text": [
                        "error: 0.002979974129001106\n"
                    ]
                }
            ],
            "source": [
                "print(\"error:\", np.linalg.norm(ahat - a))"
            ]
        },
        {
            "cell_type": "code",
            "execution_count": null,
            "metadata": {},
            "outputs": [],
            "source": []
        },
        {
            "cell_type": "markdown",
            "metadata": {},
            "source": [
                "Code below shows how close $a$ in spherical coordinates (theta_list) is to $ahat$."
            ]
        },
        {
            "cell_type": "code",
            "execution_count": 10,
            "metadata": {},
            "outputs": [],
            "source": [
                "def vec_to_theta_list(vec):\n",
                "    '''\n",
                "    Converts a vector to theta_list\n",
                "    '''\n",
                "    theta_list = []\n",
                "    cur_sin_product = 1.0\n",
                "    for i in range(0, len(vec) - 2):\n",
                "        theta = np.arccos(vec[i] / cur_sin_product) # 0 to pi range\n",
                "        theta_list.append(theta)\n",
                "        cur_sin_product *= np.sin(theta)\n",
                "    \n",
                "    # 0 to 2pi range\n",
                "    # possibility 1\n",
                "    theta_p1 = np.arccos(vec[-2] / cur_sin_product)\n",
                "    if cur_sin_product * np.sin(theta_p1) - vec[-1] > 1e-2:\n",
                "        # we need to use the other possibility\n",
                "        theta_p1 = -theta_p1 + 2 * np.pi\n",
                "    theta_list.append(theta_p1)\n",
                "    return theta_list"
            ]
        },
        {
            "cell_type": "code",
            "execution_count": 11,
            "metadata": {},
            "outputs": [],
            "source": [
                "theta_list_opt = vec_to_theta_list(oracle.a)"
            ]
        },
        {
            "cell_type": "code",
            "execution_count": 12,
            "metadata": {},
            "outputs": [
                {
                    "data": {
                        "text/plain": [
                            "array([ 0.01250023, -0.19585473,  0.14049531,  0.20815772, -0.25391651,\n",
                            "       -0.02774202, -0.41198427, -0.02981075, -0.39809574, -0.06708321,\n",
                            "        0.08438654,  0.10614552,  0.12328695, -0.31575798, -0.06444732,\n",
                            "       -0.30606313,  0.23728292, -0.22163813, -0.12149291, -0.38505428])"
                        ]
                    },
                    "execution_count": 12,
                    "metadata": {},
                    "output_type": "execute_result"
                }
            ],
            "source": [
                "# this should be equal to a\n",
                "# subtract the origin and divide by the radius to get a normalize estimate\n",
                "(compute_vector(sphere, theta_list_opt) - sphere.origin)/sphere.radius"
            ]
        },
        {
            "cell_type": "code",
            "execution_count": 13,
            "metadata": {
                "scrolled": true
            },
            "outputs": [
                {
                    "data": {
                        "text/plain": [
                            "array([ 0.01250023, -0.19585473,  0.14049531,  0.20815772, -0.25391651,\n",
                            "       -0.02774202, -0.41198427, -0.02981075, -0.39809574, -0.06708321,\n",
                            "        0.08438654,  0.10614552,  0.12328695, -0.31575798, -0.06444732,\n",
                            "       -0.30606313,  0.23728292, -0.22163813, -0.12149291, -0.38505428])"
                        ]
                    },
                    "execution_count": 13,
                    "metadata": {},
                    "output_type": "execute_result"
                }
            ],
            "source": [
                "a # equal to above"
            ]
        },
        {
            "cell_type": "code",
            "execution_count": null,
            "metadata": {},
            "outputs": [],
            "source": []
        },
        {
            "cell_type": "code",
            "execution_count": 14,
            "metadata": {},
            "outputs": [
                {
                    "data": {
                        "text/plain": [
                            "[1.5582957755529625,\n",
                            " 1.767940919620489,\n",
                            " 1.4270198156984673,\n",
                            " 1.35461725521667,\n",
                            " 1.8419958741937164,\n",
                            " 1.601179756072418,\n",
                            " 2.0390735108393803,\n",
                            " 1.6074036951098685,\n",
                            " 2.0818274659901883,\n",
                            " 1.6654234173710578,\n",
                            " 1.4511192485406748,\n",
                            " 1.4189550080139803,\n",
                            " 1.3921169209363586,\n",
                            " 2.051677090133744,\n",
                            " 1.6774857276480764,\n",
                            " 2.1043587275585147,\n",
                            " 1.0950925146064312,\n",
                            " 2.0728150476050446,\n",
                            " 4.406753792133734]"
                        ]
                    },
                    "execution_count": 14,
                    "metadata": {},
                    "output_type": "execute_result"
                }
            ],
            "source": [
                "theta_list_opt"
            ]
        },
        {
            "cell_type": "code",
            "execution_count": 15,
            "metadata": {},
            "outputs": [
                {
                    "data": {
                        "text/plain": [
                            "[1.5585244804918115,\n",
                            " 1.7671458676442586,\n",
                            " 1.4266021327336462,\n",
                            " 1.3560390164909066,\n",
                            " 1.8407769454627694,\n",
                            " 1.6014759425526095,\n",
                            " 2.040194447887903,\n",
                            " 1.6076118657041518,\n",
                            " 2.083145909948701,\n",
                            " 1.6659031356438065,\n",
                            " 1.4511458253398164,\n",
                            " 1.420466209582104,\n",
                            " 1.392854555400162,\n",
                            " 2.052466294190988,\n",
                            " 1.6781749819468916,\n",
                            " 2.1046216409791,\n",
                            " 1.0952622825503475,\n",
                            " 2.073942025221387,\n",
                            " 4.405592822807561]"
                        ]
                    },
                    "execution_count": 15,
                    "metadata": {},
                    "output_type": "execute_result"
                }
            ],
            "source": [
                "# very close to above\n",
                "# in general: theta_hat - search_tol/2 <= theta_true <= theta_hat + search_tol/2\n",
                "lpm.theta_list"
            ]
        },
        {
            "cell_type": "code",
            "execution_count": null,
            "metadata": {},
            "outputs": [],
            "source": []
        }
    ],
    "metadata": {
        "kernelspec": {
            "display_name": "Python 3",
            "language": "python",
            "name": "python3"
        },
        "language_info": {
            "codemirror_mode": {
                "name": "ipython",
                "version": 3
            },
            "file_extension": ".py",
            "mimetype": "text/x-python",
            "name": "python",
            "nbconvert_exporter": "python",
            "pygments_lexer": "ipython3",
            "version": "3.7.3"
        }
    },
    "nbformat": 4,
    "nbformat_minor": 2
}