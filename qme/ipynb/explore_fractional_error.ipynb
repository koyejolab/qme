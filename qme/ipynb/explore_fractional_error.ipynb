{
    "cells": [
        {
            "cell_type": "code",
            "execution_count": 1,
            "metadata": {},
            "outputs": [],
            "source": [
                "import numpy as np\n",
                "import matplotlib.pyplot as plt\n",
                "import matplotlib as mpl\n",
                "from tqdm import tqdm_notebook\n",
                "import pickle\n",
                "\n",
                "import sys\n",
                "sys.path.append('../')\n",
                "from common import Sphere, check_is_bad_grad\n",
                "from lpme import compute_vector"
            ]
        },
        {
            "cell_type": "code",
            "execution_count": 2,
            "metadata": {},
            "outputs": [],
            "source": [
                "mpl.rcParams['axes.linewidth'] = 2.0 #set the value globally\n",
                "plt.rc('font', size=15)"
            ]
        },
        {
            "cell_type": "code",
            "execution_count": 3,
            "metadata": {},
            "outputs": [],
            "source": [
                "def get_random_theta(i, q):\n",
                "    '''\n",
                "    Constructs random theta vector (spherical coordinates)\n",
                "    '''\n",
                "    min_t = 0.0\n",
                "    max_t = np.pi\n",
                "    \n",
                "    if i == q - 1:\n",
                "        # last theta can be anything\n",
                "        max_t = 2 * np.pi\n",
                "    \n",
                "    return np.random.uniform(min_t, max_t)\n",
                "\n",
                "def randomly_modify_theta_list(theta_list, search_tol):\n",
                "    '''\n",
                "    Randomly modifies each angle in theta list such that it is +/- search_tol from the original\n",
                "    This is representative of the error from LPME.\n",
                "    '''\n",
                "    # any theta measured can be +/- search_tol/2 from the true\n",
                "    theta_list_mod = []\n",
                "    for t in theta_list:\n",
                "        t_m = t + np.random.uniform(-search_tol/2, search_tol/2)\n",
                "        theta_list_mod.append(t_m)\n",
                "    return theta_list_mod\n",
                "\n",
                "def compute_ratios(v):\n",
                "    '''\n",
                "    Compute fractions with respect to the 0th (first) coordinate of the vector.\n",
                "    Ignore the 0th index since that is trivially 1.\n",
                "    '''\n",
                "    return ((v / v[0])[1:])"
            ]
        },
        {
            "cell_type": "code",
            "execution_count": 4,
            "metadata": {},
            "outputs": [],
            "source": [
                "nc = 4\n",
                "search_tol = 1e-2\n",
                "well_formed = True\n",
                "\n",
                "q = nc ** 2 - nc"
            ]
        },
        {
            "cell_type": "code",
            "execution_count": 5,
            "metadata": {},
            "outputs": [],
            "source": [
                "s = Sphere(np.zeros(q), 1.0, q)"
            ]
        },
        {
            "cell_type": "code",
            "execution_count": 6,
            "metadata": {},
            "outputs": [
                {
                    "data": {
                        "application/vnd.jupyter.widget-view+json": {
                            "model_id": "963f97c5dfb94f198c3bb1e687628136",
                            "version_major": 2,
                            "version_minor": 0
                        },
                        "text/plain": [
                            "HBox(children=(IntProgress(value=0, max=1000), HTML(value='')))"
                        ]
                    },
                    "metadata": {},
                    "output_type": "display_data"
                },
                {
                    "name": "stdout",
                    "output_type": "stream",
                    "text": [
                        "\n"
                    ]
                }
            ],
            "source": [
                "np.random.seed(7)\n",
                "\n",
                "trials = 1000\n",
                "coff = [] # coff_i * true_ratio_i = mod_ratio_i\n",
                "\n",
                "for _ in tqdm_notebook(range(trials)):\n",
                "    theta_list = [get_random_theta(i, q) for i in range(q-1)]\n",
                "    v = compute_vector(s, theta_list)\n",
                "    if well_formed:\n",
                "        while check_is_bad_grad(v):\n",
                "            theta_list = [get_random_theta(i, q) for i in range(q-1)]\n",
                "            v = compute_vector(s, theta_list)\n",
                "    \n",
                "    theta_list_m = randomly_modify_theta_list(theta_list, search_tol)\n",
                "    v_m = compute_vector(s, theta_list_m)\n",
                "    \n",
                "    true_ratios = compute_ratios(v)\n",
                "    mod_ratios = compute_ratios(v_m)\n",
                "    \n",
                "    co = mod_ratios / true_ratios\n",
                "    \n",
                "    coff += co.tolist()"
            ]
        },
        {
            "cell_type": "code",
            "execution_count": 7,
            "metadata": {},
            "outputs": [],
            "source": [
                "f = open(f\"./trials/coff_k={nc}_wf={well_formed}\", \"wb\")\n",
                "pickle.dump(coff, f)\n",
                "f.close()"
            ]
        },
        {
            "cell_type": "code",
            "execution_count": null,
            "metadata": {},
            "outputs": [],
            "source": []
        },
        {
            "cell_type": "markdown",
            "metadata": {},
            "source": [
                "# Plots"
            ]
        },
        {
            "cell_type": "code",
            "execution_count": 8,
            "metadata": {},
            "outputs": [],
            "source": [
                "def plot_coff(coff):\n",
                "    plt.figure(figsize=(8,5))\n",
                "    \n",
                "    plt.hist(coff, color='r')\n",
                "                    \n",
                "    plt.xlabel(r'$\\mathbf{\\frac{est_{frac}}{true_{frac}}}$', fontsize = 24, weight = 'bold')\n",
                "    plt.yticks(fontsize=20)\n",
                "\n",
                "    plt.ylabel('Count',  fontsize = 24, weight = 'bold')\n",
                "    if well_formed:\n",
                "        title = f'k={nc} Fraction Error w Asm. 4'\n",
                "    else:\n",
                "        title = f'k={nc} Fraction Error w/o Asm. 4'\n",
                "    plt.title(title, fontsize = 24, weight = 'bold')\n",
                "    \n",
                "    plt.ticklabel_format(style='sci', axis='y', scilimits=(0, 0))\n",
                "    \n",
                "    plt.tight_layout()\n",
                "    savepath = f'./plots/qme/frac_err_k={nc}_wf={well_formed}.png'\n",
                "    print(f'saving to {savepath}')\n",
                "    plt.savefig(savepath, format = \"png\", bbox_inches = \"tight\")\n",
                "    plt.show()"
            ]
        },
        {
            "cell_type": "code",
            "execution_count": 9,
            "metadata": {},
            "outputs": [],
            "source": [
                "nc = 5\n",
                "well_formed = True\n",
                "f = open(f\"./trials/coff_k={nc}_wf={well_formed}\", \"rb\")\n",
                "coff = pickle.load(f)\n",
                "f.close()"
            ]
        },
        {
            "cell_type": "code",
            "execution_count": 10,
            "metadata": {},
            "outputs": [
                {
                    "name": "stdout",
                    "output_type": "stream",
                    "text": [
                        "saving to ./plots/qme/frac_err_k=5_wf=True.png\n"
                    ]
                },
                {
                    "data": {
                        "image/png": "[encoded data removed]",
                        "text/plain": [
                            "<Figure size 576x360 with 1 Axes>"
                        ]
                    },
                    "metadata": {
                        "needs_background": "light"
                    },
                    "output_type": "display_data"
                }
            ],
            "source": [
                "plot_coff(coff)"
            ]
        },
        {
            "cell_type": "code",
            "execution_count": 11,
            "metadata": {},
            "outputs": [
                {
                    "name": "stdout",
                    "output_type": "stream",
                    "text": [
                        "saving to ./plots/qme/frac_err_k=5_wf=False.png\n"
                    ]
                },
                {
                    "data": {
                        "image/png": "[encoded data removed]",
                        "text/plain": [
                            "<Figure size 576x360 with 1 Axes>"
                        ]
                    },
                    "metadata": {
                        "needs_background": "light"
                    },
                    "output_type": "display_data"
                }
            ],
            "source": [
                "plot_coff(coff)"
            ]
        },
        {
            "cell_type": "code",
            "execution_count": null,
            "metadata": {},
            "outputs": [],
            "source": []
        }
    ],
    "metadata": {
        "kernelspec": {
            "display_name": "Python 3",
            "language": "python",
            "name": "python3"
        },
        "language_info": {
            "codemirror_mode": {
                "name": "ipython",
                "version": 3
            },
            "file_extension": ".py",
            "mimetype": "text/x-python",
            "name": "python",
            "nbconvert_exporter": "python",
            "pygments_lexer": "ipython3",
            "version": "3.7.3"
        }
    },
    "nbformat": 4,
    "nbformat_minor": 2
}