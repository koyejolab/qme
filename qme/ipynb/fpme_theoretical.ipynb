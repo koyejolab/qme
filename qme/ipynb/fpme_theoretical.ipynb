{
    "cells": [
        {
            "cell_type": "markdown",
            "metadata": {},
            "source": [
                "This file demonstrates the theoretical performance of the $B$ and $\\lambda$ recovery procedures. It does so by creating something called *b_measurements*, which computes the theoretical expected measurement for some paramaterization (see *Fair_QME_Parameterization* in *fpme_utils.py*).\n",
                "\n",
                "Let $ng$ := number of groups.\n",
                "\n",
                "Explanation:\n",
                "\n",
                "A paremeterization is (typically) a tuple (a, b) that specifies which TWO groups should get rate $s$. All other groups should get the trivial rate. As shown in the paper, this results in the metric becoming a sum of SOME (not all) $B$ matrices. Specifically, it would be all $B_{ij}$ such that $ i = a \\text{ or } b $ and $j \\neq a, b $. This sum is multiplied by $ \\frac{\\lambda}{1 - \\lambda} $. Thus our \"measurement\" is:\n",
                "\n",
                "$$ M_{ab} = \\frac{\\lambda}{1 - \\lambda} * B^m_{ab} $$\n",
                "$$ B^m_{ab} = \\sum_{i \\in \\{a,b\\}, j \\neq a,b} B_{ij} $$\n",
                "\n",
                "*fpme.ipynb* shows how this can be discovered using just oracle comparison queries. Here we compute it directly. This measurement can be computed for each parameterization. As described in the paper, we need $ ng \\choose 2 $ equations because there are $ng \\choose 2$ $B$ matrices. Generally speaking, all unique paramaterizations as described above would create enough measurements.\n",
                "\n",
                "**Exceptions: when the number of groups is 2 or 4, we need to use parameterizations that are not just 2-tuples.** Here is why:\n",
                "\n",
                "In the ng = 2 case, we pick one group to be s and the other to be the trivial rate. We don't have enough groups to run the described procedure.\n",
                "    \n",
                "In the ng = 4 case, consider $<s, s, o, o>$. Note that the B vectors associated\n",
                "with this are $B_{02}$, $B_{03}$, $B_{12}$, $B_{13}$ (all s,o pairs). Now consider $<o, o, s, s>$. The\n",
                "B vectors are the exact same! So in the ng = 4 case, enumerating all $4 \\choose 2$ ways to place $s$ creates duplicate uses of the B vectors. We get around this by also using some 1-tuple paramaterizations. This means just one group is chosen as $s$ and the rest are set to the trivial rate. Note that this is not a problem for any other number of groups.\n",
                "\n",
                "After getting *b_measurements*, we use some linear algebra to solve the system of equations (rather system of matrices). This is implemented in the *FairParametizer* class in *fpme_utils.py*. The most important function is *recover_B_lambda_from_measurements*."
            ]
        },
        {
            "cell_type": "code",
            "execution_count": 1,
            "metadata": {},
            "outputs": [],
            "source": [
                "%load_ext autoreload\n",
                "\n",
                "%autoreload 2"
            ]
        },
        {
            "cell_type": "code",
            "execution_count": 2,
            "metadata": {},
            "outputs": [],
            "source": [
                "import numpy as np\n",
                "from sklearn.datasets import make_spd_matrix\n",
                "\n",
                "import sys\n",
                "sys.path.append('../')\n",
                "from common import normalize, Sphere, Oracle\n",
                "from fpme_utils import FairParametizer, create_a_B_lamb_T, compute_B_err"
            ]
        },
        {
            "cell_type": "code",
            "execution_count": 3,
            "metadata": {},
            "outputs": [],
            "source": [
                "np.random.seed(7)\n",
                "ng = 3\n",
                "nc = 3\n",
                "\n",
                "q = nc ** 2 - nc\n",
                "v = ng * (ng - 1) // 2"
            ]
        },
        {
            "cell_type": "code",
            "execution_count": 4,
            "metadata": {},
            "outputs": [],
            "source": [
                "a, B, lamb, T = create_a_B_lamb_T(ng, nc, q)"
            ]
        },
        {
            "cell_type": "code",
            "execution_count": 5,
            "metadata": {},
            "outputs": [
                {
                    "data": {
                        "text/plain": [
                            "array([0.04754303, 0.48591967, 0.27314596, 0.45074688, 0.60932541,\n",
                            "       0.33550382])"
                        ]
                    },
                    "execution_count": 5,
                    "metadata": {},
                    "output_type": "execute_result"
                }
            ],
            "source": [
                "a"
            ]
        },
        {
            "cell_type": "code",
            "execution_count": 6,
            "metadata": {},
            "outputs": [],
            "source": [
                "fp = FairParametizer(q, ng)"
            ]
        },
        {
            "cell_type": "code",
            "execution_count": 7,
            "metadata": {},
            "outputs": [
                {
                    "data": {
                        "text/plain": [
                            "[(0, 1), (0, 2), (1, 2)]"
                        ]
                    },
                    "execution_count": 7,
                    "metadata": {},
                    "output_type": "execute_result"
                }
            ],
            "source": [
                "params = fp.create_paramaterization()\n",
                "params"
            ]
        },
        {
            "cell_type": "code",
            "execution_count": 8,
            "metadata": {},
            "outputs": [],
            "source": [
                "# this would determined by the FPME algorithm. Here we use the theoretical\n",
                "# expected, which is lamb / (1 - lamb) * \\sum of some B_ij's\n",
                "b_measurements = [np.matrix(np.zeros((q,q), dtype=np.float64)) for _ in range(v)]\n",
                "for i, p in enumerate(params):\n",
                "    for k in range(ng):\n",
                "        if k != p.i and k != p.j:\n",
                "            # if p.i or p.j is -1, that means the parameterization is\n",
                "            # not of type (m C 2), where 2 vectors are s and the rest trivial\n",
                "            if p.i == -1:\n",
                "                b_measurements[i] += B[k][p.j] * lamb / (1. - lamb)\n",
                "            elif p.j == -1:\n",
                "                b_measurements[i] += B[k][p.i] * lamb / (1. - lamb)\n",
                "            else:\n",
                "                b_measurements[i] += (B[k][p.i] + B[k][p.j]) * lamb / (1. - lamb)\n",
                "                "
            ]
        },
        {
            "cell_type": "code",
            "execution_count": 9,
            "metadata": {},
            "outputs": [],
            "source": [
                "B_hat, lamb_hat = fp.recover_B_lambda_from_measurements(b_measurements, params)"
            ]
        },
        {
            "cell_type": "code",
            "execution_count": 10,
            "metadata": {},
            "outputs": [
                {
                    "data": {
                        "text/plain": [
                            "(0.6096160708461682, 0.6096160708461681)"
                        ]
                    },
                    "execution_count": 10,
                    "metadata": {},
                    "output_type": "execute_result"
                }
            ],
            "source": [
                "lamb, lamb_hat"
            ]
        },
        {
            "cell_type": "code",
            "execution_count": 11,
            "metadata": {
                "scrolled": true
            },
            "outputs": [
                {
                    "name": "stdout",
                    "output_type": "stream",
                    "text": [
                        "lambda amount off: 1.1102230246251565e-16\n",
                        "B total err: 5.544489575524005e-16\n"
                    ]
                }
            ],
            "source": [
                "print(\"lambda amount off:\", abs(lamb_hat - lamb))\n",
                "print(\"B total err:\", compute_B_err(B_hat, B))"
            ]
        },
        {
            "cell_type": "code",
            "execution_count": null,
            "metadata": {},
            "outputs": [],
            "source": []
        }
    ],
    "metadata": {
        "kernelspec": {
            "display_name": "Python 3",
            "language": "python",
            "name": "python3"
        },
        "language_info": {
            "codemirror_mode": {
                "name": "ipython",
                "version": 3
            },
            "file_extension": ".py",
            "mimetype": "text/x-python",
            "name": "python",
            "nbconvert_exporter": "python",
            "pygments_lexer": "ipython3",
            "version": "3.7.3"
        }
    },
    "nbformat": 4,
    "nbformat_minor": 2
}